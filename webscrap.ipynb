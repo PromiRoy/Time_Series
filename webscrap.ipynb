{
 "cells": [
  {
   "cell_type": "code",
   "execution_count": 1,
   "metadata": {},
   "outputs": [
    {
     "name": "stdout",
     "output_type": "stream",
     "text": [
      "Time taken 78.55362510681152\n"
     ]
    }
   ],
   "source": [
    "import os \n",
    "import time\n",
    "import requests\n",
    "import sys\n",
    "\n",
    "def retrieve_html():\n",
    "    for year in range(2016,2023):\n",
    "        for month in range(1,13):\n",
    "            if (month<10):\n",
    "                url='https://en.tutiempo.net/climate/{}-{}/ws-429730.html'\n",
    "            else:\n",
    "                url='https://en.tutiempo.net/climate/{}-{}/ws-429730.html'\n",
    "            texts=requests.get(url)\n",
    "            text_utf=texts.text.encode('utf=8') \n",
    "\n",
    "            if not os.path.exists(\"Data/Html_Data/{}\".format(year)):\n",
    "                os.makedirs(\"Data/Html_Data/{}\".format(year))\n",
    "            with open(\"Data/Html_Data/{}/{}.html\".format(year,month), \"wb\") as output:\n",
    "                output.write(text_utf) \n",
    "    sys.stdout.flush()  \n",
    "\n",
    "if __name__==\"__main__\":\n",
    "    start_time=time.time()\n",
    "    retrieve_html()\n",
    "    stop_time=time.time()\n",
    "    print(\"Time taken {}\".format(stop_time-start_time))                  "
   ]
  }
 ],
 "metadata": {
  "kernelspec": {
   "display_name": "Python 3",
   "language": "python",
   "name": "python3"
  },
  "language_info": {
   "codemirror_mode": {
    "name": "ipython",
    "version": 3
   },
   "file_extension": ".py",
   "mimetype": "text/x-python",
   "name": "python",
   "nbconvert_exporter": "python",
   "pygments_lexer": "ipython3",
   "version": "3.10.7 (tags/v3.10.7:6cc6b13, Sep  5 2022, 14:08:36) [MSC v.1933 64 bit (AMD64)]"
  },
  "orig_nbformat": 4,
  "vscode": {
   "interpreter": {
    "hash": "548dbac440262341197affd37d4ebbf677f5d7ccb6952a9c7cfcf2a977e4c0c3"
   }
  }
 },
 "nbformat": 4,
 "nbformat_minor": 2
}
